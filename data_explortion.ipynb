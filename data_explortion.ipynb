{
 "cells": [
  {
   "cell_type": "markdown",
   "id": "05050aa0",
   "metadata": {},
   "source": [
    "# imports"
   ]
  },
  {
   "cell_type": "code",
   "execution_count": 1,
   "id": "6cece3b0",
   "metadata": {},
   "outputs": [],
   "source": [
    "import pandas as pd\n",
    "import seaborn as sns\n",
    "import matplotlib.pyplot as plt \n",
    "%matplotlib inline"
   ]
  },
  {
   "cell_type": "markdown",
   "id": "09f7d932",
   "metadata": {},
   "source": [
    "# scv read "
   ]
  },
  {
   "cell_type": "code",
   "execution_count": 2,
   "id": "626128c2",
   "metadata": {},
   "outputs": [],
   "source": [
    "mydataset = pd.read_csv('conn_attack.csv')"
   ]
  },
  {
   "cell_type": "markdown",
   "id": "45b6f7c1",
   "metadata": {},
   "source": [
    "# 1. first we will look on the table for first emprashen check size, colums etc"
   ]
  },
  {
   "cell_type": "markdown",
   "id": "842187fb",
   "metadata": {},
   "source": [
    "#### we wanted to know how many data we hendle"
   ]
  },
  {
   "cell_type": "code",
   "execution_count": 5,
   "id": "08963ca2",
   "metadata": {},
   "outputs": [
    {
     "data": {
      "text/plain": [
       "(256670, 4)"
      ]
     },
     "execution_count": 5,
     "metadata": {},
     "output_type": "execute_result"
    }
   ],
   "source": [
    "mydataset.shape"
   ]
  },
  {
   "cell_type": "raw",
   "id": "3e1f183c",
   "metadata": {},
   "source": [
    "#### we check the diffrent features we use"
   ]
  },
  {
   "cell_type": "code",
   "execution_count": 6,
   "id": "a3b2cd5e",
   "metadata": {},
   "outputs": [
    {
     "data": {
      "text/plain": [
       "Index(['record ID', 'Duration', 'src_bytes', 'dst_bytes'], dtype='object')"
      ]
     },
     "execution_count": 6,
     "metadata": {},
     "output_type": "execute_result"
    }
   ],
   "source": [
    "#show all the columns we have\n",
    "mydataset.columns"
   ]
  },
  {
   "cell_type": "code",
   "execution_count": 4,
   "id": "eae6b607",
   "metadata": {},
   "outputs": [
    {
     "data": {
      "text/html": [
       "<div>\n",
       "<style scoped>\n",
       "    .dataframe tbody tr th:only-of-type {\n",
       "        vertical-align: middle;\n",
       "    }\n",
       "\n",
       "    .dataframe tbody tr th {\n",
       "        vertical-align: top;\n",
       "    }\n",
       "\n",
       "    .dataframe thead th {\n",
       "        text-align: right;\n",
       "    }\n",
       "</style>\n",
       "<table border=\"1\" class=\"dataframe\">\n",
       "  <thead>\n",
       "    <tr style=\"text-align: right;\">\n",
       "      <th></th>\n",
       "      <th>record ID</th>\n",
       "      <th>Duration</th>\n",
       "      <th>src_bytes</th>\n",
       "      <th>dst_bytes</th>\n",
       "    </tr>\n",
       "  </thead>\n",
       "  <tbody>\n",
       "    <tr>\n",
       "      <th>0</th>\n",
       "      <td>1</td>\n",
       "      <td>0</td>\n",
       "      <td>236</td>\n",
       "      <td>1228</td>\n",
       "    </tr>\n",
       "    <tr>\n",
       "      <th>1</th>\n",
       "      <td>2</td>\n",
       "      <td>0</td>\n",
       "      <td>239</td>\n",
       "      <td>486</td>\n",
       "    </tr>\n",
       "    <tr>\n",
       "      <th>2</th>\n",
       "      <td>3</td>\n",
       "      <td>0</td>\n",
       "      <td>234</td>\n",
       "      <td>1364</td>\n",
       "    </tr>\n",
       "    <tr>\n",
       "      <th>3</th>\n",
       "      <td>4</td>\n",
       "      <td>0</td>\n",
       "      <td>239</td>\n",
       "      <td>1295</td>\n",
       "    </tr>\n",
       "    <tr>\n",
       "      <th>4</th>\n",
       "      <td>5</td>\n",
       "      <td>0</td>\n",
       "      <td>181</td>\n",
       "      <td>5450</td>\n",
       "    </tr>\n",
       "  </tbody>\n",
       "</table>\n",
       "</div>"
      ],
      "text/plain": [
       "   record ID  Duration  src_bytes  dst_bytes\n",
       "0          1         0        236       1228\n",
       "1          2         0        239        486\n",
       "2          3         0        234       1364\n",
       "3          4         0        239       1295\n",
       "4          5         0        181       5450"
      ]
     },
     "execution_count": 4,
     "metadata": {},
     "output_type": "execute_result"
    }
   ],
   "source": [
    "#show the firest element\n",
    "mydataset.head()"
   ]
  },
  {
   "cell_type": "code",
   "execution_count": 5,
   "id": "c35da7ae",
   "metadata": {},
   "outputs": [
    {
     "data": {
      "text/html": [
       "<div>\n",
       "<style scoped>\n",
       "    .dataframe tbody tr th:only-of-type {\n",
       "        vertical-align: middle;\n",
       "    }\n",
       "\n",
       "    .dataframe tbody tr th {\n",
       "        vertical-align: top;\n",
       "    }\n",
       "\n",
       "    .dataframe thead th {\n",
       "        text-align: right;\n",
       "    }\n",
       "</style>\n",
       "<table border=\"1\" class=\"dataframe\">\n",
       "  <thead>\n",
       "    <tr style=\"text-align: right;\">\n",
       "      <th></th>\n",
       "      <th>record ID</th>\n",
       "      <th>Duration</th>\n",
       "      <th>src_bytes</th>\n",
       "      <th>dst_bytes</th>\n",
       "    </tr>\n",
       "  </thead>\n",
       "  <tbody>\n",
       "    <tr>\n",
       "      <th>256665</th>\n",
       "      <td>256666</td>\n",
       "      <td>0</td>\n",
       "      <td>306</td>\n",
       "      <td>236</td>\n",
       "    </tr>\n",
       "    <tr>\n",
       "      <th>256666</th>\n",
       "      <td>256667</td>\n",
       "      <td>0</td>\n",
       "      <td>288</td>\n",
       "      <td>4017</td>\n",
       "    </tr>\n",
       "    <tr>\n",
       "      <th>256667</th>\n",
       "      <td>256668</td>\n",
       "      <td>0</td>\n",
       "      <td>289</td>\n",
       "      <td>1096</td>\n",
       "    </tr>\n",
       "    <tr>\n",
       "      <th>256668</th>\n",
       "      <td>256669</td>\n",
       "      <td>0</td>\n",
       "      <td>198</td>\n",
       "      <td>2169</td>\n",
       "    </tr>\n",
       "    <tr>\n",
       "      <th>256669</th>\n",
       "      <td>256670</td>\n",
       "      <td>0</td>\n",
       "      <td>212</td>\n",
       "      <td>2288</td>\n",
       "    </tr>\n",
       "  </tbody>\n",
       "</table>\n",
       "</div>"
      ],
      "text/plain": [
       "        record ID  Duration  src_bytes  dst_bytes\n",
       "256665     256666         0        306        236\n",
       "256666     256667         0        288       4017\n",
       "256667     256668         0        289       1096\n",
       "256668     256669         0        198       2169\n",
       "256669     256670         0        212       2288"
      ]
     },
     "execution_count": 5,
     "metadata": {},
     "output_type": "execute_result"
    }
   ],
   "source": [
    "#show the last valuse\n",
    "mydataset.tail()"
   ]
  },
  {
   "cell_type": "markdown",
   "id": "b79bc52a",
   "metadata": {},
   "source": [
    "# 2. we check every feature on his own and try to detect suspicous things"
   ]
  },
  {
   "cell_type": "markdown",
   "id": "b9c7e613",
   "metadata": {},
   "source": [
    "### Duration:"
   ]
  },
  {
   "cell_type": "code",
   "execution_count": 7,
   "id": "9009a6c1",
   "metadata": {
    "scrolled": false
   },
   "outputs": [
    {
     "data": {
      "text/plain": [
       "0      255168\n",
       "3         122\n",
       "1         104\n",
       "5          55\n",
       "2          43\n",
       "        ...  \n",
       "328         1\n",
       "277         1\n",
       "314         1\n",
       "624         1\n",
       "715         1\n",
       "Name: Duration, Length: 368, dtype: int64"
      ]
     },
     "execution_count": 7,
     "metadata": {},
     "output_type": "execute_result"
    }
   ],
   "source": [
    "count_durtion = mydataset['Duration'].value_counts()\n",
    "count_durtion"
   ]
  },
  {
   "cell_type": "code",
   "execution_count": 6,
   "id": "48b27cd1",
   "metadata": {},
   "outputs": [
    {
     "data": {
      "text/plain": [
       "0"
      ]
     },
     "execution_count": 6,
     "metadata": {},
     "output_type": "execute_result"
    }
   ],
   "source": [
    "mydataset['Duration'].min()"
   ]
  },
  {
   "cell_type": "code",
   "execution_count": 7,
   "id": "b5854229",
   "metadata": {},
   "outputs": [
    {
     "data": {
      "text/plain": [
       "3289"
      ]
     },
     "execution_count": 7,
     "metadata": {},
     "output_type": "execute_result"
    }
   ],
   "source": [
    "mydataset['Duration'].max()"
   ]
  },
  {
   "cell_type": "code",
   "execution_count": 8,
   "id": "534338f6",
   "metadata": {},
   "outputs": [
    {
     "data": {
      "text/plain": [
       "0.6409358320021817"
      ]
     },
     "execution_count": 8,
     "metadata": {},
     "output_type": "execute_result"
    }
   ],
   "source": [
    "mydataset['Duration'].mean()"
   ]
  },
  {
   "cell_type": "code",
   "execution_count": 10,
   "id": "51159eb6",
   "metadata": {
    "scrolled": true
   },
   "outputs": [
    {
     "data": {
      "text/plain": [
       "<AxesSubplot:xlabel='Duration'>"
      ]
     },
     "execution_count": 10,
     "metadata": {},
     "output_type": "execute_result"
    },
    {
     "data": {
      "image/png": "[encoded data removed]",
      "text/plain": [
       "<Figure size 640x480 with 1 Axes>"
      ]
     },
     "metadata": {},
     "output_type": "display_data"
    }
   ],
   "source": [
    "sns.boxplot(x='Duration', data = mydataset)"
   ]
  },
  {
   "cell_type": "markdown",
   "id": "a6d708ce",
   "metadata": {},
   "source": [
    "#### write about the dur"
   ]
  },
  {
   "cell_type": "markdown",
   "id": "7ec8082a",
   "metadata": {},
   "source": [
    "### dst_bytes:"
   ]
  },
  {
   "cell_type": "code",
   "execution_count": 11,
   "id": "f1d0cecf",
   "metadata": {
    "scrolled": true
   },
   "outputs": [
    {
     "data": {
      "text/plain": [
       "2698     1412\n",
       "1380     1251\n",
       "2239     1148\n",
       "2507     1147\n",
       "3222     1116\n",
       "         ... \n",
       "21621       1\n",
       "10101       1\n",
       "14641       1\n",
       "28101       1\n",
       "14180       1\n",
       "Name: dst_bytes, Length: 17063, dtype: int64"
      ]
     },
     "execution_count": 11,
     "metadata": {},
     "output_type": "execute_result"
    }
   ],
   "source": [
    "# show all the diffrent values in dst_bytes colum and how many are from each\n",
    "count_dst = mydataset['dst_bytes'].value_counts()\n",
    "count_dst"
   ]
  },
  {
   "cell_type": "code",
   "execution_count": 14,
   "id": "93518fe7",
   "metadata": {},
   "outputs": [
    {
     "data": {
      "text/plain": [
       "<AxesSubplot:xlabel='dst_bytes', ylabel='count'>"
      ]
     },
     "execution_count": 14,
     "metadata": {},
     "output_type": "execute_result"
    },
    {
     "data": {
      "image/png": "[encoded data removed]",
      "text/plain": [
       "<Figure size 640x480 with 1 Axes>"
      ]
     },
     "metadata": {},
     "output_type": "display_data"
    }
   ],
   "source": [
    "sns.countplot(x='dst_bytes' ,data=mydataset )"
   ]
  },
  {
   "cell_type": "code",
   "execution_count": 9,
   "id": "ccf01559",
   "metadata": {},
   "outputs": [
    {
     "data": {
      "text/plain": [
       "0"
      ]
     },
     "execution_count": 9,
     "metadata": {},
     "output_type": "execute_result"
    }
   ],
   "source": [
    "mydataset['dst_bytes'].min()"
   ]
  },
  {
   "cell_type": "code",
   "execution_count": 10,
   "id": "35493cd1",
   "metadata": {},
   "outputs": [
    {
     "data": {
      "text/plain": [
       "7068759"
      ]
     },
     "execution_count": 10,
     "metadata": {},
     "output_type": "execute_result"
    }
   ],
   "source": [
    "mydataset['dst_bytes'].max()"
   ]
  },
  {
   "cell_type": "code",
   "execution_count": 11,
   "id": "b3779794",
   "metadata": {},
   "outputs": [
    {
     "data": {
      "text/plain": [
       "4473.532613862158"
      ]
     },
     "execution_count": 11,
     "metadata": {},
     "output_type": "execute_result"
    }
   ],
   "source": [
    "mydataset['dst_bytes'].mean()"
   ]
  },
  {
   "cell_type": "code",
   "execution_count": 15,
   "id": "a618fb5c",
   "metadata": {},
   "outputs": [
    {
     "data": {
      "text/plain": [
       "<AxesSubplot:xlabel='dst_bytes'>"
      ]
     },
     "execution_count": 15,
     "metadata": {},
     "output_type": "execute_result"
    },
    {
     "data": {
      "image/png": "[encoded data removed]",
      "text/plain": [
       "<Figure size 640x480 with 1 Axes>"
      ]
     },
     "metadata": {},
     "output_type": "display_data"
    }
   ],
   "source": [
    "sns.boxplot(x='dst_bytes', data = mydataset)"
   ]
  },
  {
   "cell_type": "markdown",
   "id": "03eb8300",
   "metadata": {},
   "source": [
    "#### con for dst"
   ]
  },
  {
   "cell_type": "markdown",
   "id": "ea2c9c43",
   "metadata": {},
   "source": [
    "### src_bytes:"
   ]
  },
  {
   "cell_type": "code",
   "execution_count": 16,
   "id": "4c697ecf",
   "metadata": {},
   "outputs": [
    {
     "data": {
      "text/plain": [
       "216     2646\n",
       "221     2614\n",
       "224     2558\n",
       "208     2552\n",
       "215     2546\n",
       "        ... \n",
       "1379       1\n",
       "9219       1\n",
       "137        1\n",
       "520        1\n",
       "623        1\n",
       "Name: src_bytes, Length: 473, dtype: int64"
      ]
     },
     "execution_count": 16,
     "metadata": {},
     "output_type": "execute_result"
    }
   ],
   "source": [
    "# show all the diffrent values in dst_bytes colum and how many are from each\n",
    "count_src = mydataset['src_bytes'].value_counts()\n",
    "count_src"
   ]
  },
  {
   "cell_type": "code",
   "execution_count": 19,
   "id": "0b24b8b7",
   "metadata": {
    "scrolled": false
   },
   "outputs": [
    {
     "data": {
      "text/plain": [
       "<AxesSubplot:xlabel='src_bytes', ylabel='count'>"
      ]
     },
     "execution_count": 19,
     "metadata": {},
     "output_type": "execute_result"
    },
    {
     "data": {
      "image/png": "[encoded data removed]",
      "text/plain": [
       "<Figure size 640x480 with 1 Axes>"
      ]
     },
     "metadata": {},
     "output_type": "display_data"
    }
   ],
   "source": [
    "sns.countplot(x='src_bytes' ,data=mydataset )"
   ]
  },
  {
   "cell_type": "code",
   "execution_count": 12,
   "id": "e94af47d",
   "metadata": {},
   "outputs": [
    {
     "data": {
      "text/plain": [
       "0"
      ]
     },
     "execution_count": 12,
     "metadata": {},
     "output_type": "execute_result"
    }
   ],
   "source": [
    "mydataset['src_bytes'].min()"
   ]
  },
  {
   "cell_type": "code",
   "execution_count": 13,
   "id": "5605d2d6",
   "metadata": {},
   "outputs": [
    {
     "data": {
      "text/plain": [
       "54540"
      ]
     },
     "execution_count": 13,
     "metadata": {},
     "output_type": "execute_result"
    }
   ],
   "source": [
    "mydataset['src_bytes'].max()"
   ]
  },
  {
   "cell_type": "code",
   "execution_count": 14,
   "id": "81971bab",
   "metadata": {},
   "outputs": [
    {
     "data": {
      "text/plain": [
       "474.2478980792457"
      ]
     },
     "execution_count": 14,
     "metadata": {},
     "output_type": "execute_result"
    }
   ],
   "source": [
    "mydataset['src_bytes'].mean()"
   ]
  },
  {
   "cell_type": "code",
   "execution_count": 20,
   "id": "449a4acb",
   "metadata": {},
   "outputs": [
    {
     "data": {
      "text/plain": [
       "<AxesSubplot:xlabel='src_bytes'>"
      ]
     },
     "execution_count": 20,
     "metadata": {},
     "output_type": "execute_result"
    },
    {
     "data": {
      "image/png": "[encoded data removed]",
      "text/plain": [
       "<Figure size 640x480 with 1 Axes>"
      ]
     },
     "metadata": {},
     "output_type": "display_data"
    }
   ],
   "source": [
    "sns.boxplot(x='src_bytes', data = mydataset)"
   ]
  },
  {
   "cell_type": "markdown",
   "id": "5d7c70fd",
   "metadata": {},
   "source": [
    "#### con for src"
   ]
  },
  {
   "cell_type": "markdown",
   "id": "ee365470",
   "metadata": {},
   "source": [
    "# 3. secand thing we do is to check the dependency between every 2 colums"
   ]
  },
  {
   "cell_type": "markdown",
   "id": "bef46298",
   "metadata": {},
   "source": [
    "#### src_bytes - dst_bytes:"
   ]
  },
  {
   "cell_type": "code",
   "execution_count": 21,
   "id": "b9dab31f",
   "metadata": {},
   "outputs": [
    {
     "data": {
      "text/plain": [
       "<seaborn.axisgrid.FacetGrid at 0x7f66512b1460>"
      ]
     },
     "execution_count": 21,
     "metadata": {},
     "output_type": "execute_result"
    },
    {
     "data": {
      "image/png": "[encoded data removed]",
      "text/plain": [
       "<Figure size 500x500 with 1 Axes>"
      ]
     },
     "metadata": {},
     "output_type": "display_data"
    }
   ],
   "source": [
    "sns.catplot(x = 'src_bytes', y='dst_bytes', data = mydataset)"
   ]
  },
  {
   "cell_type": "markdown",
   "id": "e845a3a9",
   "metadata": {},
   "source": [
    "#### con "
   ]
  },
  {
   "cell_type": "markdown",
   "id": "03a3a9ac",
   "metadata": {},
   "source": [
    "#### src_bytes - Duration:"
   ]
  },
  {
   "cell_type": "code",
   "execution_count": 22,
   "id": "ee486a22",
   "metadata": {},
   "outputs": [
    {
     "data": {
      "text/plain": [
       "<seaborn.axisgrid.FacetGrid at 0x7f66632de4c0>"
      ]
     },
     "execution_count": 22,
     "metadata": {},
     "output_type": "execute_result"
    },
    {
     "data": {
      "image/png": "[encoded data removed]",
      "text/plain": [
       "<Figure size 500x500 with 1 Axes>"
      ]
     },
     "metadata": {},
     "output_type": "display_data"
    }
   ],
   "source": [
    "sns.catplot(x = 'src_bytes', y='Duration', data = mydataset)"
   ]
  },
  {
   "cell_type": "markdown",
   "id": "bcb7aa56",
   "metadata": {},
   "source": [
    "#### con"
   ]
  },
  {
   "cell_type": "markdown",
   "id": "5614a315",
   "metadata": {},
   "source": [
    "#### dst_bytes - Duration:"
   ]
  },
  {
   "cell_type": "code",
   "execution_count": 15,
   "id": "e3bcd6ff",
   "metadata": {},
   "outputs": [
    {
     "data": {
      "text/plain": [
       "<seaborn.axisgrid.FacetGrid at 0x7f03e9f1e610>"
      ]
     },
     "execution_count": 15,
     "metadata": {},
     "output_type": "execute_result"
    },
    {
     "data": {
      "image/png": "[encoded data removed]",
      "text/plain": [
       "<Figure size 500x500 with 1 Axes>"
      ]
     },
     "metadata": {},
     "output_type": "display_data"
    }
   ],
   "source": [
    "sns.catplot(x = 'Duration', y='dst_bytes', data = mydataset)"
   ]
  },
  {
   "cell_type": "markdown",
   "id": "d56a4cb5",
   "metadata": {},
   "source": [
    "#### con"
   ]
  },
  {
   "cell_type": "code",
   "execution_count": null,
   "id": "6f8d150e",
   "metadata": {},
   "outputs": [],
   "source": [
    "sns.catplot(x = 'dst_bytes', y='Duration', data = mydataset)"
   ]
  },
  {
   "cell_type": "markdown",
   "id": "9fdfaa94",
   "metadata": {},
   "source": [
    "# 4. we check the depend of all togther"
   ]
  },
  {
   "cell_type": "markdown",
   "id": "b5665e93",
   "metadata": {},
   "source": [
    "#### src_bytes-dst_bytes /Duration"
   ]
  },
  {
   "cell_type": "code",
   "execution_count": null,
   "id": "8b9e7fe5",
   "metadata": {},
   "outputs": [],
   "source": [
    "sns.relplot(x = 'src_bytes', y='dst_bytes', hue = 'Duration',data = mydataset)"
   ]
  },
  {
   "cell_type": "markdown",
   "id": "f422a46b",
   "metadata": {},
   "source": [
    "#### con"
   ]
  },
  {
   "cell_type": "markdown",
   "id": "badcbd93",
   "metadata": {},
   "source": [
    "# 5. more things we check"
   ]
  },
  {
   "cell_type": "markdown",
   "id": "5ced783c",
   "metadata": {},
   "source": [
    "### we check the src+dst - Duration:"
   ]
  },
  {
   "cell_type": "code",
   "execution_count": 16,
   "id": "9767f8f0",
   "metadata": {},
   "outputs": [],
   "source": [
    "mydataset['sum'] = mydataset['src_bytes']+mydataset['dst_bytes']"
   ]
  },
  {
   "cell_type": "code",
   "execution_count": 17,
   "id": "9720ecdd",
   "metadata": {},
   "outputs": [
    {
     "data": {
      "text/html": [
       "<div>\n",
       "<style scoped>\n",
       "    .dataframe tbody tr th:only-of-type {\n",
       "        vertical-align: middle;\n",
       "    }\n",
       "\n",
       "    .dataframe tbody tr th {\n",
       "        vertical-align: top;\n",
       "    }\n",
       "\n",
       "    .dataframe thead th {\n",
       "        text-align: right;\n",
       "    }\n",
       "</style>\n",
       "<table border=\"1\" class=\"dataframe\">\n",
       "  <thead>\n",
       "    <tr style=\"text-align: right;\">\n",
       "      <th></th>\n",
       "      <th>record ID</th>\n",
       "      <th>Duration</th>\n",
       "      <th>src_bytes</th>\n",
       "      <th>dst_bytes</th>\n",
       "      <th>sum</th>\n",
       "    </tr>\n",
       "  </thead>\n",
       "  <tbody>\n",
       "    <tr>\n",
       "      <th>0</th>\n",
       "      <td>1</td>\n",
       "      <td>0</td>\n",
       "      <td>236</td>\n",
       "      <td>1228</td>\n",
       "      <td>1464</td>\n",
       "    </tr>\n",
       "    <tr>\n",
       "      <th>1</th>\n",
       "      <td>2</td>\n",
       "      <td>0</td>\n",
       "      <td>239</td>\n",
       "      <td>486</td>\n",
       "      <td>725</td>\n",
       "    </tr>\n",
       "    <tr>\n",
       "      <th>2</th>\n",
       "      <td>3</td>\n",
       "      <td>0</td>\n",
       "      <td>234</td>\n",
       "      <td>1364</td>\n",
       "      <td>1598</td>\n",
       "    </tr>\n",
       "    <tr>\n",
       "      <th>3</th>\n",
       "      <td>4</td>\n",
       "      <td>0</td>\n",
       "      <td>239</td>\n",
       "      <td>1295</td>\n",
       "      <td>1534</td>\n",
       "    </tr>\n",
       "    <tr>\n",
       "      <th>4</th>\n",
       "      <td>5</td>\n",
       "      <td>0</td>\n",
       "      <td>181</td>\n",
       "      <td>5450</td>\n",
       "      <td>5631</td>\n",
       "    </tr>\n",
       "    <tr>\n",
       "      <th>...</th>\n",
       "      <td>...</td>\n",
       "      <td>...</td>\n",
       "      <td>...</td>\n",
       "      <td>...</td>\n",
       "      <td>...</td>\n",
       "    </tr>\n",
       "    <tr>\n",
       "      <th>256665</th>\n",
       "      <td>256666</td>\n",
       "      <td>0</td>\n",
       "      <td>306</td>\n",
       "      <td>236</td>\n",
       "      <td>542</td>\n",
       "    </tr>\n",
       "    <tr>\n",
       "      <th>256666</th>\n",
       "      <td>256667</td>\n",
       "      <td>0</td>\n",
       "      <td>288</td>\n",
       "      <td>4017</td>\n",
       "      <td>4305</td>\n",
       "    </tr>\n",
       "    <tr>\n",
       "      <th>256667</th>\n",
       "      <td>256668</td>\n",
       "      <td>0</td>\n",
       "      <td>289</td>\n",
       "      <td>1096</td>\n",
       "      <td>1385</td>\n",
       "    </tr>\n",
       "    <tr>\n",
       "      <th>256668</th>\n",
       "      <td>256669</td>\n",
       "      <td>0</td>\n",
       "      <td>198</td>\n",
       "      <td>2169</td>\n",
       "      <td>2367</td>\n",
       "    </tr>\n",
       "    <tr>\n",
       "      <th>256669</th>\n",
       "      <td>256670</td>\n",
       "      <td>0</td>\n",
       "      <td>212</td>\n",
       "      <td>2288</td>\n",
       "      <td>2500</td>\n",
       "    </tr>\n",
       "  </tbody>\n",
       "</table>\n",
       "<p>256670 rows × 5 columns</p>\n",
       "</div>"
      ],
      "text/plain": [
       "        record ID  Duration  src_bytes  dst_bytes   sum\n",
       "0               1         0        236       1228  1464\n",
       "1               2         0        239        486   725\n",
       "2               3         0        234       1364  1598\n",
       "3               4         0        239       1295  1534\n",
       "4               5         0        181       5450  5631\n",
       "...           ...       ...        ...        ...   ...\n",
       "256665     256666         0        306        236   542\n",
       "256666     256667         0        288       4017  4305\n",
       "256667     256668         0        289       1096  1385\n",
       "256668     256669         0        198       2169  2367\n",
       "256669     256670         0        212       2288  2500\n",
       "\n",
       "[256670 rows x 5 columns]"
      ]
     },
     "execution_count": 17,
     "metadata": {},
     "output_type": "execute_result"
    }
   ],
   "source": [
    "mydataset"
   ]
  },
  {
   "cell_type": "code",
   "execution_count": null,
   "id": "28fb5ed1",
   "metadata": {},
   "outputs": [],
   "source": []
  },
  {
   "cell_type": "markdown",
   "id": "2b4527f8",
   "metadata": {},
   "source": [
    "#### con"
   ]
  },
  {
   "cell_type": "markdown",
   "id": "caba5a17",
   "metadata": {},
   "source": [
    "#### dst_bytes/src_bytes:"
   ]
  },
  {
   "cell_type": "code",
   "execution_count": 9,
   "id": "ebd194d0",
   "metadata": {},
   "outputs": [],
   "source": [
    "mydataset['dst_per_src'] = mydataset['dst_bytes']/(mydataset['src_bytes']+1)"
   ]
  },
  {
   "cell_type": "code",
   "execution_count": 10,
   "id": "5c3bd959",
   "metadata": {},
   "outputs": [
    {
     "data": {
      "text/plain": [
       "0.0"
      ]
     },
     "execution_count": 10,
     "metadata": {},
     "output_type": "execute_result"
    }
   ],
   "source": [
    "mydataset['dst_per_src'].min()"
   ]
  },
  {
   "cell_type": "code",
   "execution_count": 11,
   "id": "9b6fdbe2",
   "metadata": {},
   "outputs": [
    {
     "data": {
      "text/plain": [
       "39053.91712707182"
      ]
     },
     "execution_count": 11,
     "metadata": {},
     "output_type": "execute_result"
    }
   ],
   "source": [
    "mydataset['dst_per_src'].max()"
   ]
  },
  {
   "cell_type": "code",
   "execution_count": 12,
   "id": "ad2e8dfe",
   "metadata": {},
   "outputs": [
    {
     "data": {
      "text/plain": [
       "18.64758115508217"
      ]
     },
     "execution_count": 12,
     "metadata": {},
     "output_type": "execute_result"
    }
   ],
   "source": [
    "mydataset['dst_per_src'].mean()"
   ]
  },
  {
   "cell_type": "code",
   "execution_count": 13,
   "id": "5305c841",
   "metadata": {},
   "outputs": [
    {
     "data": {
      "text/plain": [
       "<AxesSubplot:xlabel='dst_per_src'>"
      ]
     },
     "execution_count": 13,
     "metadata": {},
     "output_type": "execute_result"
    },
    {
     "data": {
      "image/png": "[encoded data removed]",
      "text/plain": [
       "<Figure size 640x480 with 1 Axes>"
      ]
     },
     "metadata": {},
     "output_type": "display_data"
    }
   ],
   "source": [
    "sns.boxplot(x='dst_per_src', data = mydataset)"
   ]
  },
  {
   "cell_type": "code",
   "execution_count": null,
   "id": "25e23ba5",
   "metadata": {},
   "outputs": [],
   "source": []
  }
 ],
 "metadata": {
  "kernelspec": {
   "display_name": "Python 3 (ipykernel)",
   "language": "python",
   "name": "python3"
  },
  "language_info": {
   "codemirror_mode": {
    "name": "ipython",
    "version": 3
   },
   "file_extension": ".py",
   "mimetype": "text/x-python",
   "name": "python",
   "nbconvert_exporter": "python",
   "pygments_lexer": "ipython3",
   "version": "3.9.13"
  }
 },
 "nbformat": 4,
 "nbformat_minor": 5
}
