{
 "cells": [
  {
   "cell_type": "markdown",
   "id": "c4ce47d8",
   "metadata": {},
   "source": [
    "# Task -1 Anomaly detection\n",
    "## Student ID1: 315303529\n",
    "## Student ID2: 315918557\n",
    "#### We will use Pandas, Numpy, SKLEARN, matplotlib, scipy\n",
    "#### link to github project: https://github.com/michaelMatve/Network_traffic_anomalies_detection.git"
   ]
  },
  {
   "cell_type": "markdown",
   "id": "05050aa0",
   "metadata": {},
   "source": [
    "# imports"
   ]
  },
  {
   "cell_type": "code",
   "execution_count": 1,
   "id": "6cece3b0",
   "metadata": {},
   "outputs": [],
   "source": [
    "# Imports\n",
    "%matplotlib inline\n",
    "import pandas as pd\n",
    "import numpy as np\n",
    "import matplotlib.pyplot as plt\n",
    "import seaborn as sns\n",
    "from scipy.stats import norm\n",
    "from sklearn.preprocessing import StandardScaler\n",
    "from scipy import stats\n",
    "import warnings"
   ]
  },
  {
   "cell_type": "markdown",
   "id": "09f7d932",
   "metadata": {},
   "source": [
    "# scv read "
   ]
  },
  {
   "cell_type": "code",
   "execution_count": 2,
   "id": "626128c2",
   "metadata": {},
   "outputs": [],
   "source": [
    "mydataset = pd.read_csv('conn_attack.csv')"
   ]
  },
  {
   "cell_type": "markdown",
   "id": "45b6f7c1",
   "metadata": {},
   "source": [
    "# 1. first we will look at the table for first impression, check size, colums etc."
   ]
  },
  {
   "cell_type": "markdown",
   "id": "842187fb",
   "metadata": {},
   "source": [
    "#### we want to know how many data we need to handle"
   ]
  },
  {
   "cell_type": "code",
   "execution_count": 3,
   "id": "08963ca2",
   "metadata": {},
   "outputs": [
    {
     "data": {
      "text/plain": [
       "(256670, 4)"
      ]
     },
     "execution_count": 3,
     "metadata": {},
     "output_type": "execute_result"
    }
   ],
   "source": [
    "mydataset.shape"
   ]
  },
  {
   "cell_type": "markdown",
   "id": "e63c8af4",
   "metadata": {},
   "source": [
    "#### we look at the features we have in the csv file"
   ]
  },
  {
   "cell_type": "code",
   "execution_count": 4,
   "id": "a3b2cd5e",
   "metadata": {},
   "outputs": [
    {
     "data": {
      "text/plain": [
       "Index(['record ID', 'Duration', 'src_bytes', 'dst_bytes'], dtype='object')"
      ]
     },
     "execution_count": 4,
     "metadata": {},
     "output_type": "execute_result"
    }
   ],
   "source": [
    "#show all the columns we have\n",
    "mydataset.columns"
   ]
  },
  {
   "cell_type": "code",
   "execution_count": 5,
   "id": "eae6b607",
   "metadata": {},
   "outputs": [
    {
     "data": {
      "text/html": [
       "<div>\n",
       "<style scoped>\n",
       "    .dataframe tbody tr th:only-of-type {\n",
       "        vertical-align: middle;\n",
       "    }\n",
       "\n",
       "    .dataframe tbody tr th {\n",
       "        vertical-align: top;\n",
       "    }\n",
       "\n",
       "    .dataframe thead th {\n",
       "        text-align: right;\n",
       "    }\n",
       "</style>\n",
       "<table border=\"1\" class=\"dataframe\">\n",
       "  <thead>\n",
       "    <tr style=\"text-align: right;\">\n",
       "      <th></th>\n",
       "      <th>record ID</th>\n",
       "      <th>Duration</th>\n",
       "      <th>src_bytes</th>\n",
       "      <th>dst_bytes</th>\n",
       "    </tr>\n",
       "  </thead>\n",
       "  <tbody>\n",
       "    <tr>\n",
       "      <th>0</th>\n",
       "      <td>1</td>\n",
       "      <td>0</td>\n",
       "      <td>236</td>\n",
       "      <td>1228</td>\n",
       "    </tr>\n",
       "    <tr>\n",
       "      <th>1</th>\n",
       "      <td>2</td>\n",
       "      <td>0</td>\n",
       "      <td>239</td>\n",
       "      <td>486</td>\n",
       "    </tr>\n",
       "    <tr>\n",
       "      <th>2</th>\n",
       "      <td>3</td>\n",
       "      <td>0</td>\n",
       "      <td>234</td>\n",
       "      <td>1364</td>\n",
       "    </tr>\n",
       "    <tr>\n",
       "      <th>3</th>\n",
       "      <td>4</td>\n",
       "      <td>0</td>\n",
       "      <td>239</td>\n",
       "      <td>1295</td>\n",
       "    </tr>\n",
       "    <tr>\n",
       "      <th>4</th>\n",
       "      <td>5</td>\n",
       "      <td>0</td>\n",
       "      <td>181</td>\n",
       "      <td>5450</td>\n",
       "    </tr>\n",
       "  </tbody>\n",
       "</table>\n",
       "</div>"
      ],
      "text/plain": [
       "   record ID  Duration  src_bytes  dst_bytes\n",
       "0          1         0        236       1228\n",
       "1          2         0        239        486\n",
       "2          3         0        234       1364\n",
       "3          4         0        239       1295\n",
       "4          5         0        181       5450"
      ]
     },
     "execution_count": 5,
     "metadata": {},
     "output_type": "execute_result"
    }
   ],
   "source": [
    "#show the firest element\n",
    "mydataset.head()"
   ]
  },
  {
   "cell_type": "code",
   "execution_count": 6,
   "id": "c35da7ae",
   "metadata": {},
   "outputs": [
    {
     "data": {
      "text/html": [
       "<div>\n",
       "<style scoped>\n",
       "    .dataframe tbody tr th:only-of-type {\n",
       "        vertical-align: middle;\n",
       "    }\n",
       "\n",
       "    .dataframe tbody tr th {\n",
       "        vertical-align: top;\n",
       "    }\n",
       "\n",
       "    .dataframe thead th {\n",
       "        text-align: right;\n",
       "    }\n",
       "</style>\n",
       "<table border=\"1\" class=\"dataframe\">\n",
       "  <thead>\n",
       "    <tr style=\"text-align: right;\">\n",
       "      <th></th>\n",
       "      <th>record ID</th>\n",
       "      <th>Duration</th>\n",
       "      <th>src_bytes</th>\n",
       "      <th>dst_bytes</th>\n",
       "    </tr>\n",
       "  </thead>\n",
       "  <tbody>\n",
       "    <tr>\n",
       "      <th>256665</th>\n",
       "      <td>256666</td>\n",
       "      <td>0</td>\n",
       "      <td>306</td>\n",
       "      <td>236</td>\n",
       "    </tr>\n",
       "    <tr>\n",
       "      <th>256666</th>\n",
       "      <td>256667</td>\n",
       "      <td>0</td>\n",
       "      <td>288</td>\n",
       "      <td>4017</td>\n",
       "    </tr>\n",
       "    <tr>\n",
       "      <th>256667</th>\n",
       "      <td>256668</td>\n",
       "      <td>0</td>\n",
       "      <td>289</td>\n",
       "      <td>1096</td>\n",
       "    </tr>\n",
       "    <tr>\n",
       "      <th>256668</th>\n",
       "      <td>256669</td>\n",
       "      <td>0</td>\n",
       "      <td>198</td>\n",
       "      <td>2169</td>\n",
       "    </tr>\n",
       "    <tr>\n",
       "      <th>256669</th>\n",
       "      <td>256670</td>\n",
       "      <td>0</td>\n",
       "      <td>212</td>\n",
       "      <td>2288</td>\n",
       "    </tr>\n",
       "  </tbody>\n",
       "</table>\n",
       "</div>"
      ],
      "text/plain": [
       "        record ID  Duration  src_bytes  dst_bytes\n",
       "256665     256666         0        306        236\n",
       "256666     256667         0        288       4017\n",
       "256667     256668         0        289       1096\n",
       "256668     256669         0        198       2169\n",
       "256669     256670         0        212       2288"
      ]
     },
     "execution_count": 6,
     "metadata": {},
     "output_type": "execute_result"
    }
   ],
   "source": [
    "#show the last valuse\n",
    "mydataset.tail()"
   ]
  },
  {
   "cell_type": "markdown",
   "id": "b79bc52a",
   "metadata": {},
   "source": [
    "# 2. we check every feature on his own and try to detect suspicious things"
   ]
  },
  {
   "cell_type": "markdown",
   "id": "b9c7e613",
   "metadata": {},
   "source": [
    "### Duration:"
   ]
  },
  {
   "cell_type": "code",
   "execution_count": 7,
   "id": "9009a6c1",
   "metadata": {
    "scrolled": false
   },
   "outputs": [
    {
     "data": {
      "text/plain": [
       "0      255168\n",
       "3         122\n",
       "1         104\n",
       "5          55\n",
       "2          43\n",
       "        ...  \n",
       "328         1\n",
       "277         1\n",
       "314         1\n",
       "624         1\n",
       "715         1\n",
       "Name: Duration, Length: 368, dtype: int64"
      ]
     },
     "execution_count": 7,
     "metadata": {},
     "output_type": "execute_result"
    }
   ],
   "source": [
    "count_durtion = mydataset['Duration'].value_counts()\n",
    "count_durtion"
   ]
  },
  {
   "cell_type": "code",
   "execution_count": 8,
   "id": "48b27cd1",
   "metadata": {},
   "outputs": [
    {
     "data": {
      "text/plain": [
       "0"
      ]
     },
     "execution_count": 8,
     "metadata": {},
     "output_type": "execute_result"
    }
   ],
   "source": [
    "mydataset['Duration'].min()"
   ]
  },
  {
   "cell_type": "code",
   "execution_count": 9,
   "id": "b5854229",
   "metadata": {},
   "outputs": [
    {
     "data": {
      "text/plain": [
       "3289"
      ]
     },
     "execution_count": 9,
     "metadata": {},
     "output_type": "execute_result"
    }
   ],
   "source": [
    "mydataset['Duration'].max()"
   ]
  },
  {
   "cell_type": "code",
   "execution_count": 10,
   "id": "534338f6",
   "metadata": {},
   "outputs": [
    {
     "data": {
      "text/plain": [
       "0.6409358320021817"
      ]
     },
     "execution_count": 10,
     "metadata": {},
     "output_type": "execute_result"
    }
   ],
   "source": [
    "mydataset['Duration'].mean()"
   ]
  },
  {
   "cell_type": "code",
   "execution_count": 11,
   "id": "51159eb6",
   "metadata": {
    "scrolled": true
   },
   "outputs": [
    {
     "data": {
      "text/plain": [
       "<AxesSubplot:xlabel='Duration'>"
      ]
     },
     "execution_count": 11,
     "metadata": {},
     "output_type": "execute_result"
    },
    {
     "data": {
      "image/png": "[encoded data removed]",
      "text/plain": [
       "<Figure size 640x480 with 1 Axes>"
      ]
     },
     "metadata": {},
     "output_type": "display_data"
    }
   ],
   "source": [
    "sns.boxplot(x='Duration', data = mydataset)"
   ]
  },
  {
   "cell_type": "markdown",
   "id": "a6d708ce",
   "metadata": {},
   "source": [
    "#### Conclusion: after inspecting the Duration, we notice that most of the records have a duration under ~700, and that the min duration is 0 and the max duration is 3289 while the mean is 0.64 which means that most of the records are around 0 and the records that their Duration is over ~700 are suspicious and might be anomalies"
   ]
  },
  {
   "cell_type": "markdown",
   "id": "7ec8082a",
   "metadata": {},
   "source": [
    "### dst_bytes:"
   ]
  },
  {
   "cell_type": "code",
   "execution_count": 12,
   "id": "f1d0cecf",
   "metadata": {
    "scrolled": true
   },
   "outputs": [
    {
     "data": {
      "text/plain": [
       "2698     1412\n",
       "1380     1251\n",
       "2239     1148\n",
       "2507     1147\n",
       "3222     1116\n",
       "         ... \n",
       "21621       1\n",
       "10101       1\n",
       "14641       1\n",
       "28101       1\n",
       "14180       1\n",
       "Name: dst_bytes, Length: 17063, dtype: int64"
      ]
     },
     "execution_count": 12,
     "metadata": {},
     "output_type": "execute_result"
    }
   ],
   "source": [
    "# show all the diffrent values in dst_bytes colum and how many are from each\n",
    "count_dst = mydataset['dst_bytes'].value_counts()\n",
    "count_dst"
   ]
  },
  {
   "cell_type": "code",
   "execution_count": 13,
   "id": "93518fe7",
   "metadata": {},
   "outputs": [
    {
     "data": {
      "text/plain": [
       "<AxesSubplot:xlabel='dst_bytes', ylabel='count'>"
      ]
     },
     "execution_count": 13,
     "metadata": {},
     "output_type": "execute_result"
    },
    {
     "data": {
      "image/png": "[encoded data removed]",
      "text/plain": [
       "<Figure size 640x480 with 1 Axes>"
      ]
     },
     "metadata": {},
     "output_type": "display_data"
    }
   ],
   "source": [
    "sns.countplot(x='dst_bytes' ,data=mydataset )"
   ]
  },
  {
   "cell_type": "code",
   "execution_count": 14,
   "id": "ccf01559",
   "metadata": {},
   "outputs": [
    {
     "data": {
      "text/plain": [
       "0"
      ]
     },
     "execution_count": 14,
     "metadata": {},
     "output_type": "execute_result"
    }
   ],
   "source": [
    "mydataset['dst_bytes'].min()"
   ]
  },
  {
   "cell_type": "code",
   "execution_count": 15,
   "id": "35493cd1",
   "metadata": {},
   "outputs": [
    {
     "data": {
      "text/plain": [
       "7068759"
      ]
     },
     "execution_count": 15,
     "metadata": {},
     "output_type": "execute_result"
    }
   ],
   "source": [
    "mydataset['dst_bytes'].max()"
   ]
  },
  {
   "cell_type": "code",
   "execution_count": 16,
   "id": "b3779794",
   "metadata": {},
   "outputs": [
    {
     "data": {
      "text/plain": [
       "4473.532613862158"
      ]
     },
     "execution_count": 16,
     "metadata": {},
     "output_type": "execute_result"
    }
   ],
   "source": [
    "mydataset['dst_bytes'].mean()"
   ]
  },
  {
   "cell_type": "code",
   "execution_count": 17,
   "id": "a618fb5c",
   "metadata": {},
   "outputs": [
    {
     "data": {
      "text/plain": [
       "<AxesSubplot:xlabel='dst_bytes'>"
      ]
     },
     "execution_count": 17,
     "metadata": {},
     "output_type": "execute_result"
    },
    {
     "data": {
      "image/png": "[encoded data removed]",
      "text/plain": [
       "<Figure size 640x480 with 1 Axes>"
      ]
     },
     "metadata": {},
     "output_type": "display_data"
    }
   ],
   "source": [
    "sns.boxplot(x='dst_bytes', data = mydataset)"
   ]
  },
  {
   "cell_type": "markdown",
   "id": "03eb8300",
   "metadata": {},
   "source": [
    "#### Conclusion: after inspecting the dst_bytes feature we can see that the min is 0, the max is 7068759 and the mean is ~4473 which mean that most of the dst_bytes are no more than 8000 bytes. looking at the graph could also tell us that the records that their dst_bytes are over ~8000 are suspicious and might be anomalies"
   ]
  },
  {
   "cell_type": "markdown",
   "id": "ea2c9c43",
   "metadata": {},
   "source": [
    "### src_bytes:"
   ]
  },
  {
   "cell_type": "code",
   "execution_count": 18,
   "id": "4c697ecf",
   "metadata": {},
   "outputs": [
    {
     "data": {
      "text/plain": [
       "216     2646\n",
       "221     2614\n",
       "224     2558\n",
       "208     2552\n",
       "215     2546\n",
       "        ... \n",
       "1379       1\n",
       "9219       1\n",
       "137        1\n",
       "520        1\n",
       "623        1\n",
       "Name: src_bytes, Length: 473, dtype: int64"
      ]
     },
     "execution_count": 18,
     "metadata": {},
     "output_type": "execute_result"
    }
   ],
   "source": [
    "# show all the diffrent values in dst_bytes colum and how many are from each\n",
    "count_src = mydataset['src_bytes'].value_counts()\n",
    "count_src"
   ]
  },
  {
   "cell_type": "code",
   "execution_count": 19,
   "id": "0b24b8b7",
   "metadata": {
    "scrolled": false
   },
   "outputs": [
    {
     "data": {
      "text/plain": [
       "<AxesSubplot:xlabel='src_bytes', ylabel='count'>"
      ]
     },
     "execution_count": 19,
     "metadata": {},
     "output_type": "execute_result"
    },
    {
     "data": {
      "image/png": "[encoded data removed]",
      "text/plain": [
       "<Figure size 640x480 with 1 Axes>"
      ]
     },
     "metadata": {},
     "output_type": "display_data"
    }
   ],
   "source": [
    "sns.countplot(x='src_bytes' ,data=mydataset )"
   ]
  },
  {
   "cell_type": "code",
   "execution_count": 20,
   "id": "e94af47d",
   "metadata": {},
   "outputs": [
    {
     "data": {
      "text/plain": [
       "0"
      ]
     },
     "execution_count": 20,
     "metadata": {},
     "output_type": "execute_result"
    }
   ],
   "source": [
    "mydataset['src_bytes'].min()"
   ]
  },
  {
   "cell_type": "code",
   "execution_count": 21,
   "id": "5605d2d6",
   "metadata": {},
   "outputs": [
    {
     "data": {
      "text/plain": [
       "54540"
      ]
     },
     "execution_count": 21,
     "metadata": {},
     "output_type": "execute_result"
    }
   ],
   "source": [
    "mydataset['src_bytes'].max()"
   ]
  },
  {
   "cell_type": "code",
   "execution_count": 22,
   "id": "81971bab",
   "metadata": {},
   "outputs": [
    {
     "data": {
      "text/plain": [
       "474.2478980792457"
      ]
     },
     "execution_count": 22,
     "metadata": {},
     "output_type": "execute_result"
    }
   ],
   "source": [
    "mydataset['src_bytes'].mean()"
   ]
  },
  {
   "cell_type": "code",
   "execution_count": 23,
   "id": "449a4acb",
   "metadata": {},
   "outputs": [
    {
     "data": {
      "text/plain": [
       "<AxesSubplot:xlabel='src_bytes'>"
      ]
     },
     "execution_count": 23,
     "metadata": {},
     "output_type": "execute_result"
    },
    {
     "data": {
      "image/png": "[encoded data removed]",
      "text/plain": [
       "<Figure size 640x480 with 1 Axes>"
      ]
     },
     "metadata": {},
     "output_type": "display_data"
    }
   ],
   "source": [
    "sns.boxplot(x='src_bytes', data = mydataset)"
   ]
  },
  {
   "cell_type": "markdown",
   "id": "5d7c70fd",
   "metadata": {},
   "source": [
    "#### Conclusion: after checking the min max and the mean, and looking at the graph, we got to a consclusion that src_bytes distribution is not quite conclusive, but we can see that there are not much records around 8000 and 35000 which might indicate that those records be anomalies"
   ]
  },
  {
   "cell_type": "markdown",
   "id": "ee365470",
   "metadata": {},
   "source": [
    "# 3. the third thing we do is to check the dependency between every 2 columns"
   ]
  },
  {
   "cell_type": "markdown",
   "id": "bef46298",
   "metadata": {},
   "source": [
    "#### src_bytes - dst_bytes:"
   ]
  },
  {
   "cell_type": "code",
   "execution_count": 55,
   "id": "b9dab31f",
   "metadata": {},
   "outputs": [
    {
     "data": {
      "text/plain": [
       "<seaborn.axisgrid.FacetGrid at 0x7f5106a21b50>"
      ]
     },
     "execution_count": 55,
     "metadata": {},
     "output_type": "execute_result"
    },
    {
     "data": {
      "image/png": "[encoded data removed]",
      "text/plain": [
       "<Figure size 500x500 with 1 Axes>"
      ]
     },
     "metadata": {},
     "output_type": "display_data"
    }
   ],
   "source": [
    "sns.catplot(x = 'src_bytes', y='dst_bytes', data = mydataset)"
   ]
  },
  {
   "cell_type": "markdown",
   "id": "e845a3a9",
   "metadata": {},
   "source": [
    "#### Conclusion: after looking the dependency graph between src_bytes and dst_bytes we can tell that the vast majority of the src_bytes have a dst_bytes around ~5000 and that the src_bytes that got dst_bytes more than that are suspected to be anomalies"
   ]
  },
  {
   "cell_type": "markdown",
   "id": "03a3a9ac",
   "metadata": {},
   "source": [
    "#### src_bytes - Duration:"
   ]
  },
  {
   "cell_type": "code",
   "execution_count": 25,
   "id": "ee486a22",
   "metadata": {},
   "outputs": [
    {
     "data": {
      "text/plain": [
       "<seaborn.axisgrid.FacetGrid at 0x7f511d899340>"
      ]
     },
     "execution_count": 25,
     "metadata": {},
     "output_type": "execute_result"
    },
    {
     "data": {
      "image/png": "[encoded data removed]",
      "text/plain": [
       "<Figure size 500x500 with 1 Axes>"
      ]
     },
     "metadata": {},
     "output_type": "display_data"
    }
   ],
   "source": [
    "sns.catplot(x = 'src_bytes', y='Duration', data = mydataset)"
   ]
  },
  {
   "cell_type": "markdown",
   "id": "bcb7aa56",
   "metadata": {},
   "source": [
    "#### Conclusion: we looked at the dependency graph of src_bytes and Duration, and from looking at the graph we can tell that the bigger the src_bytes are the less duration it has. we know that the mean of the Duration is 0.64, but in this graph we can see that there are a lot of records that have duration bigger than 0. there are records that their duration is bigger than 500 which might tell us that this is an anomaly."
   ]
  },
  {
   "cell_type": "markdown",
   "id": "5614a315",
   "metadata": {},
   "source": [
    "#### dst_bytes - Duration:"
   ]
  },
  {
   "cell_type": "code",
   "execution_count": 26,
   "id": "e3bcd6ff",
   "metadata": {},
   "outputs": [
    {
     "data": {
      "text/plain": [
       "<seaborn.axisgrid.FacetGrid at 0x7f5109f42f70>"
      ]
     },
     "execution_count": 26,
     "metadata": {},
     "output_type": "execute_result"
    },
    {
     "data": {
      "image/png": "[encoded data removed]",
      "text/plain": [
       "<Figure size 500x500 with 1 Axes>"
      ]
     },
     "metadata": {},
     "output_type": "display_data"
    }
   ],
   "source": [
    "sns.catplot(x = 'Duration', y='dst_bytes', data = mydataset)"
   ]
  },
  {
   "cell_type": "markdown",
   "id": "d56a4cb5",
   "metadata": {},
   "source": [
    "#### Conclusion: we looked at the dependency between duration and dst_bytes. this graph might not be the best one since the units of measurement of the dst_bytes are high, but we can still detect some anomalies, because there are records that their dst_bytes are higher than most of the records."
   ]
  },
  {
   "cell_type": "code",
   "execution_count": 27,
   "id": "6f8d150e",
   "metadata": {},
   "outputs": [],
   "source": [
    "# sns.catplot(x = 'dst_bytes', y='Duration', data = mydataset)"
   ]
  },
  {
   "cell_type": "markdown",
   "id": "9fdfaa94",
   "metadata": {},
   "source": [
    "# 4. we check the dependency of all the features together"
   ]
  },
  {
   "cell_type": "markdown",
   "id": "b5665e93",
   "metadata": {},
   "source": [
    "#### src_bytes-dst_bytes /Duration"
   ]
  },
  {
   "cell_type": "code",
   "execution_count": 28,
   "id": "8b9e7fe5",
   "metadata": {},
   "outputs": [
    {
     "data": {
      "text/plain": [
       "<seaborn.axisgrid.FacetGrid at 0x7f51093e7460>"
      ]
     },
     "execution_count": 28,
     "metadata": {},
     "output_type": "execute_result"
    },
    {
     "data": {
      "image/png": "[encoded data removed]",
      "text/plain": [
       "<Figure size 585.5x500 with 1 Axes>"
      ]
     },
     "metadata": {},
     "output_type": "display_data"
    }
   ],
   "source": [
    "sns.relplot(x = 'src_bytes', y='dst_bytes', hue = 'Duration',data = mydataset)"
   ]
  },
  {
   "cell_type": "markdown",
   "id": "f422a46b",
   "metadata": {},
   "source": [
    "#### Conclusion: we looked at the dependency graph of src_bytes and dst_bytes as the result are divides according to the duration feature. we can tell that almost all the results' duration is under 600, which might indicate that records that their duration is higher than 600 are anomalies. we can also tell that when the src_bytes are higher the dst_bytes are 0, and when the src_bytes are close to 0 there are some records that their dst_bytes are higher than most which might indicate that they are anomalies."
   ]
  },
  {
   "cell_type": "markdown",
   "id": "badcbd93",
   "metadata": {},
   "source": [
    "# 5. more things we checked"
   ]
  },
  {
   "cell_type": "markdown",
   "id": "5ced783c",
   "metadata": {},
   "source": [
    "### we check the src+dst - Duration:"
   ]
  },
  {
   "cell_type": "code",
   "execution_count": 29,
   "id": "9767f8f0",
   "metadata": {},
   "outputs": [],
   "source": [
    "mydataset['sum'] = mydataset['src_bytes']+mydataset['dst_bytes']"
   ]
  },
  {
   "cell_type": "code",
   "execution_count": 30,
   "id": "9720ecdd",
   "metadata": {},
   "outputs": [
    {
     "data": {
      "text/html": [
       "<div>\n",
       "<style scoped>\n",
       "    .dataframe tbody tr th:only-of-type {\n",
       "        vertical-align: middle;\n",
       "    }\n",
       "\n",
       "    .dataframe tbody tr th {\n",
       "        vertical-align: top;\n",
       "    }\n",
       "\n",
       "    .dataframe thead th {\n",
       "        text-align: right;\n",
       "    }\n",
       "</style>\n",
       "<table border=\"1\" class=\"dataframe\">\n",
       "  <thead>\n",
       "    <tr style=\"text-align: right;\">\n",
       "      <th></th>\n",
       "      <th>record ID</th>\n",
       "      <th>Duration</th>\n",
       "      <th>src_bytes</th>\n",
       "      <th>dst_bytes</th>\n",
       "      <th>sum</th>\n",
       "    </tr>\n",
       "  </thead>\n",
       "  <tbody>\n",
       "    <tr>\n",
       "      <th>0</th>\n",
       "      <td>1</td>\n",
       "      <td>0</td>\n",
       "      <td>236</td>\n",
       "      <td>1228</td>\n",
       "      <td>1464</td>\n",
       "    </tr>\n",
       "    <tr>\n",
       "      <th>1</th>\n",
       "      <td>2</td>\n",
       "      <td>0</td>\n",
       "      <td>239</td>\n",
       "      <td>486</td>\n",
       "      <td>725</td>\n",
       "    </tr>\n",
       "    <tr>\n",
       "      <th>2</th>\n",
       "      <td>3</td>\n",
       "      <td>0</td>\n",
       "      <td>234</td>\n",
       "      <td>1364</td>\n",
       "      <td>1598</td>\n",
       "    </tr>\n",
       "    <tr>\n",
       "      <th>3</th>\n",
       "      <td>4</td>\n",
       "      <td>0</td>\n",
       "      <td>239</td>\n",
       "      <td>1295</td>\n",
       "      <td>1534</td>\n",
       "    </tr>\n",
       "    <tr>\n",
       "      <th>4</th>\n",
       "      <td>5</td>\n",
       "      <td>0</td>\n",
       "      <td>181</td>\n",
       "      <td>5450</td>\n",
       "      <td>5631</td>\n",
       "    </tr>\n",
       "    <tr>\n",
       "      <th>...</th>\n",
       "      <td>...</td>\n",
       "      <td>...</td>\n",
       "      <td>...</td>\n",
       "      <td>...</td>\n",
       "      <td>...</td>\n",
       "    </tr>\n",
       "    <tr>\n",
       "      <th>256665</th>\n",
       "      <td>256666</td>\n",
       "      <td>0</td>\n",
       "      <td>306</td>\n",
       "      <td>236</td>\n",
       "      <td>542</td>\n",
       "    </tr>\n",
       "    <tr>\n",
       "      <th>256666</th>\n",
       "      <td>256667</td>\n",
       "      <td>0</td>\n",
       "      <td>288</td>\n",
       "      <td>4017</td>\n",
       "      <td>4305</td>\n",
       "    </tr>\n",
       "    <tr>\n",
       "      <th>256667</th>\n",
       "      <td>256668</td>\n",
       "      <td>0</td>\n",
       "      <td>289</td>\n",
       "      <td>1096</td>\n",
       "      <td>1385</td>\n",
       "    </tr>\n",
       "    <tr>\n",
       "      <th>256668</th>\n",
       "      <td>256669</td>\n",
       "      <td>0</td>\n",
       "      <td>198</td>\n",
       "      <td>2169</td>\n",
       "      <td>2367</td>\n",
       "    </tr>\n",
       "    <tr>\n",
       "      <th>256669</th>\n",
       "      <td>256670</td>\n",
       "      <td>0</td>\n",
       "      <td>212</td>\n",
       "      <td>2288</td>\n",
       "      <td>2500</td>\n",
       "    </tr>\n",
       "  </tbody>\n",
       "</table>\n",
       "<p>256670 rows × 5 columns</p>\n",
       "</div>"
      ],
      "text/plain": [
       "        record ID  Duration  src_bytes  dst_bytes   sum\n",
       "0               1         0        236       1228  1464\n",
       "1               2         0        239        486   725\n",
       "2               3         0        234       1364  1598\n",
       "3               4         0        239       1295  1534\n",
       "4               5         0        181       5450  5631\n",
       "...           ...       ...        ...        ...   ...\n",
       "256665     256666         0        306        236   542\n",
       "256666     256667         0        288       4017  4305\n",
       "256667     256668         0        289       1096  1385\n",
       "256668     256669         0        198       2169  2367\n",
       "256669     256670         0        212       2288  2500\n",
       "\n",
       "[256670 rows x 5 columns]"
      ]
     },
     "execution_count": 30,
     "metadata": {},
     "output_type": "execute_result"
    }
   ],
   "source": [
    "mydataset"
   ]
  },
  {
   "cell_type": "code",
   "execution_count": null,
   "id": "28fb5ed1",
   "metadata": {},
   "outputs": [],
   "source": []
  },
  {
   "cell_type": "markdown",
   "id": "caba5a17",
   "metadata": {},
   "source": [
    "#### dst_bytes/src_bytes:"
   ]
  },
  {
   "cell_type": "code",
   "execution_count": 31,
   "id": "ebd194d0",
   "metadata": {},
   "outputs": [],
   "source": [
    "mydataset['dst_per_src'] = mydataset['dst_bytes']/(mydataset['src_bytes']+1)"
   ]
  },
  {
   "cell_type": "code",
   "execution_count": 32,
   "id": "5c3bd959",
   "metadata": {},
   "outputs": [
    {
     "data": {
      "text/plain": [
       "0.0"
      ]
     },
     "execution_count": 32,
     "metadata": {},
     "output_type": "execute_result"
    }
   ],
   "source": [
    "mydataset['dst_per_src'].min()"
   ]
  },
  {
   "cell_type": "code",
   "execution_count": 33,
   "id": "9b6fdbe2",
   "metadata": {},
   "outputs": [
    {
     "data": {
      "text/plain": [
       "39053.91712707182"
      ]
     },
     "execution_count": 33,
     "metadata": {},
     "output_type": "execute_result"
    }
   ],
   "source": [
    "mydataset['dst_per_src'].max()"
   ]
  },
  {
   "cell_type": "code",
   "execution_count": 34,
   "id": "ad2e8dfe",
   "metadata": {},
   "outputs": [
    {
     "data": {
      "text/plain": [
       "18.64758115508217"
      ]
     },
     "execution_count": 34,
     "metadata": {},
     "output_type": "execute_result"
    }
   ],
   "source": [
    "mydataset['dst_per_src'].mean()"
   ]
  },
  {
   "cell_type": "code",
   "execution_count": 35,
   "id": "5305c841",
   "metadata": {},
   "outputs": [
    {
     "data": {
      "text/plain": [
       "<AxesSubplot:xlabel='dst_per_src'>"
      ]
     },
     "execution_count": 35,
     "metadata": {},
     "output_type": "execute_result"
    },
    {
     "data": {
      "image/png": "[encoded data removed]",
      "text/plain": [
       "<Figure size 640x480 with 1 Axes>"
      ]
     },
     "metadata": {},
     "output_type": "display_data"
    }
   ],
   "source": [
    "sns.boxplot(x='dst_per_src', data = mydataset)"
   ]
  },
  {
   "cell_type": "markdown",
   "id": "a34bbabd",
   "metadata": {},
   "source": [
    "#### Conclusion: we checked how many dst_bytes we got for for every 1 src_byte. according to min, max, mean and the graph we can see that most of the records got under than ~3000 bytes for 1 byte they send, which means that we the number of bytes received is higher than ~3000 this is an anomaly"
   ]
  },
  {
   "cell_type": "markdown",
   "id": "dbfa7fa8",
   "metadata": {},
   "source": [
    "# Part II - detecting anomalies"
   ]
  },
  {
   "cell_type": "code",
   "execution_count": 36,
   "id": "d19c7a82",
   "metadata": {},
   "outputs": [],
   "source": [
    "df = pd.read_csv('/home/eylon/Desktop/Network_traffic_anomalies_detection/conn_attack.csv')\n",
    "df2 = pd.read_csv('/home/eylon/Desktop/Network_traffic_anomalies_detection/conn_attack_anomaly_labels.csv')"
   ]
  },
  {
   "cell_type": "code",
   "execution_count": 37,
   "id": "e53e0b09",
   "metadata": {},
   "outputs": [
    {
     "data": {
      "text/plain": [
       "0    255648\n",
       "1      1022\n",
       "Name: pr, dtype: int64"
      ]
     },
     "execution_count": 37,
     "metadata": {},
     "output_type": "execute_result"
    }
   ],
   "source": [
    "df2['pr'].value_counts()"
   ]
  },
  {
   "cell_type": "markdown",
   "id": "264305d7",
   "metadata": {},
   "source": [
    "#### the number of anomalies in the file are 1022"
   ]
  },
  {
   "cell_type": "code",
   "execution_count": 38,
   "id": "cbd5592e",
   "metadata": {},
   "outputs": [
    {
     "name": "stderr",
     "output_type": "stream",
     "text": [
      "/home/eylon/anaconda3/lib/python3.9/site-packages/seaborn/distributions.py:2619: FutureWarning: `distplot` is a deprecated function and will be removed in a future version. Please adapt your code to use either `displot` (a figure-level function with similar flexibility) or `histplot` (an axes-level function for histograms).\n",
      "  warnings.warn(msg, FutureWarning)\n"
     ]
    },
    {
     "data": {
      "text/plain": [
       "<AxesSubplot:xlabel='src_bytes', ylabel='Density'>"
      ]
     },
     "execution_count": 38,
     "metadata": {},
     "output_type": "execute_result"
    },
    {
     "data": {
      "image/png": "[encoded data removed]",
      "text/plain": [
       "<Figure size 640x480 with 1 Axes>"
      ]
     },
     "metadata": {},
     "output_type": "display_data"
    }
   ],
   "source": [
    "sns.distplot(df['src_bytes'])"
   ]
  },
  {
   "cell_type": "markdown",
   "id": "39bc9ada",
   "metadata": {},
   "source": [
    "#### here we can see that this is a positive skew, we want to covert it to symtrical distribution"
   ]
  },
  {
   "cell_type": "code",
   "execution_count": 39,
   "id": "01fc8ef8",
   "metadata": {},
   "outputs": [
    {
     "data": {
      "text/html": [
       "<div>\n",
       "<style scoped>\n",
       "    .dataframe tbody tr th:only-of-type {\n",
       "        vertical-align: middle;\n",
       "    }\n",
       "\n",
       "    .dataframe tbody tr th {\n",
       "        vertical-align: top;\n",
       "    }\n",
       "\n",
       "    .dataframe thead th {\n",
       "        text-align: right;\n",
       "    }\n",
       "</style>\n",
       "<table border=\"1\" class=\"dataframe\">\n",
       "  <thead>\n",
       "    <tr style=\"text-align: right;\">\n",
       "      <th></th>\n",
       "      <th>record ID</th>\n",
       "      <th>Duration</th>\n",
       "      <th>src_bytes</th>\n",
       "      <th>dst_bytes</th>\n",
       "    </tr>\n",
       "  </thead>\n",
       "  <tbody>\n",
       "    <tr>\n",
       "      <th>count</th>\n",
       "      <td>256670.000000</td>\n",
       "      <td>256670.000000</td>\n",
       "      <td>256670.000000</td>\n",
       "      <td>2.566700e+05</td>\n",
       "    </tr>\n",
       "    <tr>\n",
       "      <th>mean</th>\n",
       "      <td>128335.500000</td>\n",
       "      <td>0.640936</td>\n",
       "      <td>474.247898</td>\n",
       "      <td>4.473533e+03</td>\n",
       "    </tr>\n",
       "    <tr>\n",
       "      <th>std</th>\n",
       "      <td>74094.391134</td>\n",
       "      <td>15.627170</td>\n",
       "      <td>3391.106084</td>\n",
       "      <td>2.080903e+04</td>\n",
       "    </tr>\n",
       "    <tr>\n",
       "      <th>min</th>\n",
       "      <td>1.000000</td>\n",
       "      <td>0.000000</td>\n",
       "      <td>0.000000</td>\n",
       "      <td>0.000000e+00</td>\n",
       "    </tr>\n",
       "    <tr>\n",
       "      <th>25%</th>\n",
       "      <td>64168.250000</td>\n",
       "      <td>0.000000</td>\n",
       "      <td>217.000000</td>\n",
       "      <td>6.600000e+02</td>\n",
       "    </tr>\n",
       "    <tr>\n",
       "      <th>50%</th>\n",
       "      <td>128335.500000</td>\n",
       "      <td>0.000000</td>\n",
       "      <td>249.000000</td>\n",
       "      <td>1.661000e+03</td>\n",
       "    </tr>\n",
       "    <tr>\n",
       "      <th>75%</th>\n",
       "      <td>192502.750000</td>\n",
       "      <td>0.000000</td>\n",
       "      <td>306.000000</td>\n",
       "      <td>4.341000e+03</td>\n",
       "    </tr>\n",
       "    <tr>\n",
       "      <th>max</th>\n",
       "      <td>256670.000000</td>\n",
       "      <td>3289.000000</td>\n",
       "      <td>54540.000000</td>\n",
       "      <td>7.068759e+06</td>\n",
       "    </tr>\n",
       "  </tbody>\n",
       "</table>\n",
       "</div>"
      ],
      "text/plain": [
       "           record ID       Duration      src_bytes     dst_bytes\n",
       "count  256670.000000  256670.000000  256670.000000  2.566700e+05\n",
       "mean   128335.500000       0.640936     474.247898  4.473533e+03\n",
       "std     74094.391134      15.627170    3391.106084  2.080903e+04\n",
       "min         1.000000       0.000000       0.000000  0.000000e+00\n",
       "25%     64168.250000       0.000000     217.000000  6.600000e+02\n",
       "50%    128335.500000       0.000000     249.000000  1.661000e+03\n",
       "75%    192502.750000       0.000000     306.000000  4.341000e+03\n",
       "max    256670.000000    3289.000000   54540.000000  7.068759e+06"
      ]
     },
     "execution_count": 39,
     "metadata": {},
     "output_type": "execute_result"
    }
   ],
   "source": [
    "df.describe()"
   ]
  },
  {
   "cell_type": "markdown",
   "id": "9ebb318d",
   "metadata": {},
   "source": [
    "#### we saw that the biggest difference is in src_bytes"
   ]
  },
  {
   "cell_type": "code",
   "execution_count": 40,
   "id": "0dedf6a2",
   "metadata": {},
   "outputs": [
    {
     "name": "stdout",
     "output_type": "stream",
     "text": [
      "upper limit: 10647.566150488035\n",
      "lower limit: -9699.070354329544\n"
     ]
    }
   ],
   "source": [
    "upper_limit = df['src_bytes'].mean() + 3*df['src_bytes'].std()\n",
    "lower_limit = df['src_bytes'].mean() - 3*df['src_bytes'].std()\n",
    "print(f\"upper limit: {upper_limit}\")\n",
    "print(f\"lower limit: {lower_limit}\")"
   ]
  },
  {
   "cell_type": "markdown",
   "id": "7ecc8ced",
   "metadata": {},
   "source": [
    "#### first we tried to use the MAD method to detect anomalies, but the results were plausible and not high. so we tries the z-score method which gave us teriffic results."
   ]
  },
  {
   "cell_type": "code",
   "execution_count": 41,
   "id": "be119856",
   "metadata": {},
   "outputs": [
    {
     "data": {
      "text/html": [
       "<div>\n",
       "<style scoped>\n",
       "    .dataframe tbody tr th:only-of-type {\n",
       "        vertical-align: middle;\n",
       "    }\n",
       "\n",
       "    .dataframe tbody tr th {\n",
       "        vertical-align: top;\n",
       "    }\n",
       "\n",
       "    .dataframe thead th {\n",
       "        text-align: right;\n",
       "    }\n",
       "</style>\n",
       "<table border=\"1\" class=\"dataframe\">\n",
       "  <thead>\n",
       "    <tr style=\"text-align: right;\">\n",
       "      <th></th>\n",
       "      <th>record ID</th>\n",
       "      <th>Duration</th>\n",
       "      <th>src_bytes</th>\n",
       "      <th>dst_bytes</th>\n",
       "    </tr>\n",
       "  </thead>\n",
       "  <tbody>\n",
       "    <tr>\n",
       "      <th>140814</th>\n",
       "      <td>140815</td>\n",
       "      <td>0</td>\n",
       "      <td>54540</td>\n",
       "      <td>8314</td>\n",
       "    </tr>\n",
       "    <tr>\n",
       "      <th>140815</th>\n",
       "      <td>140816</td>\n",
       "      <td>0</td>\n",
       "      <td>54540</td>\n",
       "      <td>8314</td>\n",
       "    </tr>\n",
       "    <tr>\n",
       "      <th>140816</th>\n",
       "      <td>140817</td>\n",
       "      <td>0</td>\n",
       "      <td>54540</td>\n",
       "      <td>8314</td>\n",
       "    </tr>\n",
       "    <tr>\n",
       "      <th>140817</th>\n",
       "      <td>140818</td>\n",
       "      <td>0</td>\n",
       "      <td>54540</td>\n",
       "      <td>8314</td>\n",
       "    </tr>\n",
       "    <tr>\n",
       "      <th>140818</th>\n",
       "      <td>140819</td>\n",
       "      <td>0</td>\n",
       "      <td>54540</td>\n",
       "      <td>8314</td>\n",
       "    </tr>\n",
       "    <tr>\n",
       "      <th>...</th>\n",
       "      <td>...</td>\n",
       "      <td>...</td>\n",
       "      <td>...</td>\n",
       "      <td>...</td>\n",
       "    </tr>\n",
       "    <tr>\n",
       "      <th>232764</th>\n",
       "      <td>232765</td>\n",
       "      <td>0</td>\n",
       "      <td>54540</td>\n",
       "      <td>8314</td>\n",
       "    </tr>\n",
       "    <tr>\n",
       "      <th>232765</th>\n",
       "      <td>232766</td>\n",
       "      <td>0</td>\n",
       "      <td>54540</td>\n",
       "      <td>8314</td>\n",
       "    </tr>\n",
       "    <tr>\n",
       "      <th>232766</th>\n",
       "      <td>232767</td>\n",
       "      <td>0</td>\n",
       "      <td>54540</td>\n",
       "      <td>8314</td>\n",
       "    </tr>\n",
       "    <tr>\n",
       "      <th>232767</th>\n",
       "      <td>232768</td>\n",
       "      <td>0</td>\n",
       "      <td>54540</td>\n",
       "      <td>8314</td>\n",
       "    </tr>\n",
       "    <tr>\n",
       "      <th>232768</th>\n",
       "      <td>232769</td>\n",
       "      <td>0</td>\n",
       "      <td>54540</td>\n",
       "      <td>8314</td>\n",
       "    </tr>\n",
       "  </tbody>\n",
       "</table>\n",
       "<p>1020 rows × 4 columns</p>\n",
       "</div>"
      ],
      "text/plain": [
       "        record ID  Duration  src_bytes  dst_bytes\n",
       "140814     140815         0      54540       8314\n",
       "140815     140816         0      54540       8314\n",
       "140816     140817         0      54540       8314\n",
       "140817     140818         0      54540       8314\n",
       "140818     140819         0      54540       8314\n",
       "...           ...       ...        ...        ...\n",
       "232764     232765         0      54540       8314\n",
       "232765     232766         0      54540       8314\n",
       "232766     232767         0      54540       8314\n",
       "232767     232768         0      54540       8314\n",
       "232768     232769         0      54540       8314\n",
       "\n",
       "[1020 rows x 4 columns]"
      ]
     },
     "execution_count": 41,
     "metadata": {},
     "output_type": "execute_result"
    }
   ],
   "source": [
    "df.loc[(df['src_bytes'] > upper_limit) | (df['src_bytes'] < lower_limit)]"
   ]
  },
  {
   "cell_type": "markdown",
   "id": "6ca397d4",
   "metadata": {},
   "source": [
    "#### we can see that the number of records the z-score detect as anomalies is 1020 while the real number is 1022"
   ]
  },
  {
   "cell_type": "code",
   "execution_count": 42,
   "id": "4f77efab",
   "metadata": {},
   "outputs": [],
   "source": [
    "df['pr2'] = 0"
   ]
  },
  {
   "cell_type": "code",
   "execution_count": 43,
   "id": "7a9cac57",
   "metadata": {},
   "outputs": [
    {
     "data": {
      "text/html": [
       "<div>\n",
       "<style scoped>\n",
       "    .dataframe tbody tr th:only-of-type {\n",
       "        vertical-align: middle;\n",
       "    }\n",
       "\n",
       "    .dataframe tbody tr th {\n",
       "        vertical-align: top;\n",
       "    }\n",
       "\n",
       "    .dataframe thead th {\n",
       "        text-align: right;\n",
       "    }\n",
       "</style>\n",
       "<table border=\"1\" class=\"dataframe\">\n",
       "  <thead>\n",
       "    <tr style=\"text-align: right;\">\n",
       "      <th></th>\n",
       "      <th>record ID</th>\n",
       "      <th>Duration</th>\n",
       "      <th>src_bytes</th>\n",
       "      <th>dst_bytes</th>\n",
       "      <th>pr2</th>\n",
       "    </tr>\n",
       "  </thead>\n",
       "  <tbody>\n",
       "    <tr>\n",
       "      <th>0</th>\n",
       "      <td>1</td>\n",
       "      <td>0</td>\n",
       "      <td>236</td>\n",
       "      <td>1228</td>\n",
       "      <td>0</td>\n",
       "    </tr>\n",
       "    <tr>\n",
       "      <th>1</th>\n",
       "      <td>2</td>\n",
       "      <td>0</td>\n",
       "      <td>239</td>\n",
       "      <td>486</td>\n",
       "      <td>0</td>\n",
       "    </tr>\n",
       "    <tr>\n",
       "      <th>2</th>\n",
       "      <td>3</td>\n",
       "      <td>0</td>\n",
       "      <td>234</td>\n",
       "      <td>1364</td>\n",
       "      <td>0</td>\n",
       "    </tr>\n",
       "    <tr>\n",
       "      <th>3</th>\n",
       "      <td>4</td>\n",
       "      <td>0</td>\n",
       "      <td>239</td>\n",
       "      <td>1295</td>\n",
       "      <td>0</td>\n",
       "    </tr>\n",
       "    <tr>\n",
       "      <th>4</th>\n",
       "      <td>5</td>\n",
       "      <td>0</td>\n",
       "      <td>181</td>\n",
       "      <td>5450</td>\n",
       "      <td>0</td>\n",
       "    </tr>\n",
       "    <tr>\n",
       "      <th>...</th>\n",
       "      <td>...</td>\n",
       "      <td>...</td>\n",
       "      <td>...</td>\n",
       "      <td>...</td>\n",
       "      <td>...</td>\n",
       "    </tr>\n",
       "    <tr>\n",
       "      <th>256665</th>\n",
       "      <td>256666</td>\n",
       "      <td>0</td>\n",
       "      <td>306</td>\n",
       "      <td>236</td>\n",
       "      <td>0</td>\n",
       "    </tr>\n",
       "    <tr>\n",
       "      <th>256666</th>\n",
       "      <td>256667</td>\n",
       "      <td>0</td>\n",
       "      <td>288</td>\n",
       "      <td>4017</td>\n",
       "      <td>0</td>\n",
       "    </tr>\n",
       "    <tr>\n",
       "      <th>256667</th>\n",
       "      <td>256668</td>\n",
       "      <td>0</td>\n",
       "      <td>289</td>\n",
       "      <td>1096</td>\n",
       "      <td>0</td>\n",
       "    </tr>\n",
       "    <tr>\n",
       "      <th>256668</th>\n",
       "      <td>256669</td>\n",
       "      <td>0</td>\n",
       "      <td>198</td>\n",
       "      <td>2169</td>\n",
       "      <td>0</td>\n",
       "    </tr>\n",
       "    <tr>\n",
       "      <th>256669</th>\n",
       "      <td>256670</td>\n",
       "      <td>0</td>\n",
       "      <td>212</td>\n",
       "      <td>2288</td>\n",
       "      <td>0</td>\n",
       "    </tr>\n",
       "  </tbody>\n",
       "</table>\n",
       "<p>256670 rows × 5 columns</p>\n",
       "</div>"
      ],
      "text/plain": [
       "        record ID  Duration  src_bytes  dst_bytes  pr2\n",
       "0               1         0        236       1228    0\n",
       "1               2         0        239        486    0\n",
       "2               3         0        234       1364    0\n",
       "3               4         0        239       1295    0\n",
       "4               5         0        181       5450    0\n",
       "...           ...       ...        ...        ...  ...\n",
       "256665     256666         0        306        236    0\n",
       "256666     256667         0        288       4017    0\n",
       "256667     256668         0        289       1096    0\n",
       "256668     256669         0        198       2169    0\n",
       "256669     256670         0        212       2288    0\n",
       "\n",
       "[256670 rows x 5 columns]"
      ]
     },
     "execution_count": 43,
     "metadata": {},
     "output_type": "execute_result"
    }
   ],
   "source": [
    "df"
   ]
  },
  {
   "cell_type": "code",
   "execution_count": 44,
   "id": "f06a9a8c",
   "metadata": {},
   "outputs": [],
   "source": [
    "df.pr2[(df['src_bytes'] > upper_limit) | (df['src_bytes'] < lower_limit)] = 1"
   ]
  },
  {
   "cell_type": "code",
   "execution_count": 45,
   "id": "f7b43bd4",
   "metadata": {},
   "outputs": [
    {
     "data": {
      "text/plain": [
       "0    255650\n",
       "1      1020\n",
       "Name: pr2, dtype: int64"
      ]
     },
     "execution_count": 45,
     "metadata": {},
     "output_type": "execute_result"
    }
   ],
   "source": [
    "df['pr2'].value_counts()"
   ]
  },
  {
   "cell_type": "code",
   "execution_count": 46,
   "id": "b8f72972",
   "metadata": {},
   "outputs": [
    {
     "data": {
      "text/html": [
       "<div>\n",
       "<style scoped>\n",
       "    .dataframe tbody tr th:only-of-type {\n",
       "        vertical-align: middle;\n",
       "    }\n",
       "\n",
       "    .dataframe tbody tr th {\n",
       "        vertical-align: top;\n",
       "    }\n",
       "\n",
       "    .dataframe thead th {\n",
       "        text-align: right;\n",
       "    }\n",
       "</style>\n",
       "<table border=\"1\" class=\"dataframe\">\n",
       "  <thead>\n",
       "    <tr style=\"text-align: right;\">\n",
       "      <th></th>\n",
       "      <th>record ID</th>\n",
       "      <th>Duration</th>\n",
       "      <th>src_bytes</th>\n",
       "      <th>dst_bytes</th>\n",
       "      <th>pr2</th>\n",
       "    </tr>\n",
       "  </thead>\n",
       "  <tbody>\n",
       "    <tr>\n",
       "      <th>0</th>\n",
       "      <td>1</td>\n",
       "      <td>0</td>\n",
       "      <td>236</td>\n",
       "      <td>1228</td>\n",
       "      <td>0</td>\n",
       "    </tr>\n",
       "    <tr>\n",
       "      <th>1</th>\n",
       "      <td>2</td>\n",
       "      <td>0</td>\n",
       "      <td>239</td>\n",
       "      <td>486</td>\n",
       "      <td>0</td>\n",
       "    </tr>\n",
       "    <tr>\n",
       "      <th>2</th>\n",
       "      <td>3</td>\n",
       "      <td>0</td>\n",
       "      <td>234</td>\n",
       "      <td>1364</td>\n",
       "      <td>0</td>\n",
       "    </tr>\n",
       "    <tr>\n",
       "      <th>3</th>\n",
       "      <td>4</td>\n",
       "      <td>0</td>\n",
       "      <td>239</td>\n",
       "      <td>1295</td>\n",
       "      <td>0</td>\n",
       "    </tr>\n",
       "    <tr>\n",
       "      <th>4</th>\n",
       "      <td>5</td>\n",
       "      <td>0</td>\n",
       "      <td>181</td>\n",
       "      <td>5450</td>\n",
       "      <td>0</td>\n",
       "    </tr>\n",
       "    <tr>\n",
       "      <th>...</th>\n",
       "      <td>...</td>\n",
       "      <td>...</td>\n",
       "      <td>...</td>\n",
       "      <td>...</td>\n",
       "      <td>...</td>\n",
       "    </tr>\n",
       "    <tr>\n",
       "      <th>256665</th>\n",
       "      <td>256666</td>\n",
       "      <td>0</td>\n",
       "      <td>306</td>\n",
       "      <td>236</td>\n",
       "      <td>0</td>\n",
       "    </tr>\n",
       "    <tr>\n",
       "      <th>256666</th>\n",
       "      <td>256667</td>\n",
       "      <td>0</td>\n",
       "      <td>288</td>\n",
       "      <td>4017</td>\n",
       "      <td>0</td>\n",
       "    </tr>\n",
       "    <tr>\n",
       "      <th>256667</th>\n",
       "      <td>256668</td>\n",
       "      <td>0</td>\n",
       "      <td>289</td>\n",
       "      <td>1096</td>\n",
       "      <td>0</td>\n",
       "    </tr>\n",
       "    <tr>\n",
       "      <th>256668</th>\n",
       "      <td>256669</td>\n",
       "      <td>0</td>\n",
       "      <td>198</td>\n",
       "      <td>2169</td>\n",
       "      <td>0</td>\n",
       "    </tr>\n",
       "    <tr>\n",
       "      <th>256669</th>\n",
       "      <td>256670</td>\n",
       "      <td>0</td>\n",
       "      <td>212</td>\n",
       "      <td>2288</td>\n",
       "      <td>0</td>\n",
       "    </tr>\n",
       "  </tbody>\n",
       "</table>\n",
       "<p>256670 rows × 5 columns</p>\n",
       "</div>"
      ],
      "text/plain": [
       "        record ID  Duration  src_bytes  dst_bytes  pr2\n",
       "0               1         0        236       1228    0\n",
       "1               2         0        239        486    0\n",
       "2               3         0        234       1364    0\n",
       "3               4         0        239       1295    0\n",
       "4               5         0        181       5450    0\n",
       "...           ...       ...        ...        ...  ...\n",
       "256665     256666         0        306        236    0\n",
       "256666     256667         0        288       4017    0\n",
       "256667     256668         0        289       1096    0\n",
       "256668     256669         0        198       2169    0\n",
       "256669     256670         0        212       2288    0\n",
       "\n",
       "[256670 rows x 5 columns]"
      ]
     },
     "execution_count": 46,
     "metadata": {},
     "output_type": "execute_result"
    }
   ],
   "source": [
    "df"
   ]
  },
  {
   "cell_type": "markdown",
   "id": "0c5fe063",
   "metadata": {},
   "source": [
    "#### after the algorithm detected its anomalies we added our prediction to the data frame"
   ]
  },
  {
   "cell_type": "code",
   "execution_count": 47,
   "id": "202b8198",
   "metadata": {},
   "outputs": [],
   "source": [
    "ans_df = df[['record ID', 'pr2']]"
   ]
  },
  {
   "cell_type": "code",
   "execution_count": 48,
   "id": "281282ab",
   "metadata": {},
   "outputs": [],
   "source": [
    "ans_df.to_csv('answer.csv')"
   ]
  },
  {
   "cell_type": "code",
   "execution_count": 49,
   "id": "cb96c0d4",
   "metadata": {},
   "outputs": [
    {
     "data": {
      "text/plain": [
       "0    255650\n",
       "1      1020\n",
       "Name: pr2, dtype: int64"
      ]
     },
     "execution_count": 49,
     "metadata": {},
     "output_type": "execute_result"
    }
   ],
   "source": [
    "ans_df['pr2'].value_counts()"
   ]
  },
  {
   "cell_type": "markdown",
   "id": "bc0630ed",
   "metadata": {},
   "source": [
    "# Comparing our prediction and the actual result"
   ]
  },
  {
   "cell_type": "code",
   "execution_count": 50,
   "id": "8bc99489",
   "metadata": {},
   "outputs": [],
   "source": [
    "pred = pd.read_csv('/home/eylon/Desktop/Network_traffic_anomalies_detection/answer.csv')\n",
    "ans = pd.read_csv('/home/eylon/Desktop/Network_traffic_anomalies_detection/conn_attack_anomaly_labels.csv')"
   ]
  },
  {
   "cell_type": "code",
   "execution_count": 51,
   "id": "aa8baa32",
   "metadata": {},
   "outputs": [
    {
     "data": {
      "text/plain": [
       "pr  pr2\n",
       "0   0      255644\n",
       "1   1        1016\n",
       "    0           6\n",
       "0   1           4\n",
       "dtype: int64"
      ]
     },
     "execution_count": 51,
     "metadata": {},
     "output_type": "execute_result"
    }
   ],
   "source": [
    "result = pred.merge(ans)[['pr', 'pr2']]\n",
    "result.value_counts()"
   ]
  },
  {
   "cell_type": "code",
   "execution_count": 52,
   "id": "a36fcca6",
   "metadata": {},
   "outputs": [],
   "source": [
    "true_positive= len(result[(result['pr'] == 0) & (result['pr2'] == 0)])\n",
    "true_negative = len(result[(result['pr'] == 1) & (result['pr2'] == 1)])\n",
    "false_positive = len(result[(result['pr'] == 1) & (result['pr2'] == 0)])\n",
    "false_negative = len(result[(result['pr'] == 0) & (result['pr2'] == 1)])"
   ]
  },
  {
   "cell_type": "code",
   "execution_count": 53,
   "id": "178e3c77",
   "metadata": {},
   "outputs": [
    {
     "name": "stdout",
     "output_type": "stream",
     "text": [
      "255644\n",
      "1016\n",
      "6\n",
      "4\n"
     ]
    }
   ],
   "source": [
    "print(true_positive)\n",
    "print(true_negative)\n",
    "print(false_positive)\n",
    "print(false_negative)"
   ]
  },
  {
   "cell_type": "markdown",
   "id": "45b00138",
   "metadata": {},
   "source": [
    "# Task Answers"
   ]
  },
  {
   "cell_type": "markdown",
   "id": "5d0e4488",
   "metadata": {},
   "source": [
    "## Question 1"
   ]
  },
  {
   "cell_type": "markdown",
   "id": "68095746",
   "metadata": {},
   "source": [
    "## Answer:"
   ]
  },
  {
   "cell_type": "markdown",
   "id": "1734e954",
   "metadata": {},
   "source": [
    "we learned that when looking at each feature individually, there are some records that their points are not in the same \"area\" as the other points."
   ]
  },
  {
   "cell_type": "markdown",
   "id": "3a47d488",
   "metadata": {},
   "source": [
    "we calculated the min, max and mean of every feature and some features as their dependencies in one another, and we noticed few points that we might consider anomalies."
   ]
  },
  {
   "cell_type": "markdown",
   "id": "e0a531a7",
   "metadata": {},
   "source": [
    "when we looked at the src_bytes feature we noticed some records that their points arent in the same zone as the other. we decided to explore this feature because we believe that the anomaly is very much affected by the src_bytes feature. we looked at the dst_bytes for every src_byte and we detected some anomalies. we chose to explore this feature because we believe that there isnt a reason for the src_bytes to be so big, because most of the records contain src_bytes that they might be requests and it should be high (because it isnt a server), and if the src_bytes are a large number it might indicate anomaly."
   ]
  },
  {
   "cell_type": "markdown",
   "id": "f79f1d81",
   "metadata": {},
   "source": [
    "Furthermore, we wrote conclusions in the notebook after each feature inspection."
   ]
  },
  {
   "cell_type": "markdown",
   "id": "95f2d1f0",
   "metadata": {},
   "source": [
    "## Question 2"
   ]
  },
  {
   "cell_type": "markdown",
   "id": "1238ac87",
   "metadata": {},
   "source": [
    "## Answer:"
   ]
  },
  {
   "cell_type": "markdown",
   "id": "699b9881",
   "metadata": {},
   "source": [
    "The algorithms group we found suitable are the unsupervised algorithms. since we dont have classifiction of which data is good and which is anomaly, we need to use an unsupervised algorithm to detect anomalies.\n",
    "The algorithm we used to detect anomalies in the data is Z-SCORE algorithm."
   ]
  },
  {
   "cell_type": "markdown",
   "id": "02a04541",
   "metadata": {},
   "source": [
    "## Question 3"
   ]
  },
  {
   "cell_type": "markdown",
   "id": "dc2f9074",
   "metadata": {},
   "source": [
    "## Answer:"
   ]
  },
  {
   "cell_type": "markdown",
   "id": "73548eed",
   "metadata": {},
   "source": [
    "After searching the internet for algorithms that will solve our problem we tried to use the MAD method to detect anomalies but the numbers it gave us werent so great. so, we decided to use the Z-SCORE method to detect anomalies and the results we got were excellent. we decided to use those methods because when we looked at the skew of the src_bytes feature it was a positive skew, so we saw that the tail is very long. so we decided that there are outliers in the data, and we can count them as anomalies.\n",
    "we know that the algorithm we used is good because when we set boundries we got a symetrical distribution, and then we compared the records we detected as anomlaies with the answers, and saw that we got great results."
   ]
  },
  {
   "cell_type": "markdown",
   "id": "3b24b44e",
   "metadata": {},
   "source": [
    "## Question 4"
   ]
  },
  {
   "cell_type": "markdown",
   "id": "3a4d8b43",
   "metadata": {},
   "source": [
    "## Answer:"
   ]
  },
  {
   "cell_type": "code",
   "execution_count": 59,
   "id": "60009d48",
   "metadata": {},
   "outputs": [
    {
     "name": "stdout",
     "output_type": "stream",
     "text": [
      "Recall: 0.9999843534860433\n",
      "Accuracy: 0.9999610394670199\n",
      "Precision: 0.9999765304126735\n"
     ]
    }
   ],
   "source": [
    "recall = (true_positive) / (true_positive + false_negative)\n",
    "accuracy = (true_positive + true_negative) / (true_positive + true_negative + false_positive + false_negative)\n",
    "precision = (true_positive) / (true_positive + false_positive)\n",
    "print(f\"Recall: {recall}\")\n",
    "print(f\"Accuracy: {accuracy}\")\n",
    "print(f\"Precision: {precision}\")"
   ]
  },
  {
   "cell_type": "code",
   "execution_count": 56,
   "id": "333f4f6a",
   "metadata": {},
   "outputs": [
    {
     "data": {
      "image/png": "[encoded data removed]",
      "text/plain": [
       "<Figure size 640x480 with 2 Axes>"
      ]
     },
     "metadata": {},
     "output_type": "display_data"
    }
   ],
   "source": [
    "\n",
    "import matplotlib.pyplot as plt\n",
    "import numpy\n",
    "from sklearn import metrics\n",
    "\n",
    "actual = pd.read_csv('/home/eylon/Desktop/Network_traffic_anomalies_detection/answer.csv')\n",
    "predicted = pd.read_csv('/home/eylon/Desktop/Network_traffic_anomalies_detection/conn_attack_anomaly_labels.csv')\n",
    "\n",
    "confusion_matrix = metrics.confusion_matrix(predicted['pr'], actual['pr2'])\n",
    "\n",
    "cm_display = metrics.ConfusionMatrixDisplay(confusion_matrix = confusion_matrix, display_labels = [True, False])\n",
    "\n",
    "cm_display.plot()\n",
    "plt.show() "
   ]
  }
 ],
 "metadata": {
  "kernelspec": {
   "display_name": "Python 3 (ipykernel)",
   "language": "python",
   "name": "python3"
  },
  "language_info": {
   "codemirror_mode": {
    "name": "ipython",
    "version": 3
   },
   "file_extension": ".py",
   "mimetype": "text/x-python",
   "name": "python",
   "nbconvert_exporter": "python",
   "pygments_lexer": "ipython3",
   "version": "3.9.13"
  }
 },
 "nbformat": 4,
 "nbformat_minor": 5
}
